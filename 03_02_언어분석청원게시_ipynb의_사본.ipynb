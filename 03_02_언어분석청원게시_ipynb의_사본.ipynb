{
  "nbformat": 4,
  "nbformat_minor": 0,
  "metadata": {
    "colab": {
      "name": "03_02_언어분석청원게시.ipynb의 사본",
      "provenance": [],
      "collapsed_sections": [],
      "toc_visible": true,
      "include_colab_link": true
    },
    "kernelspec": {
      "display_name": "Python 3",
      "name": "python3"
    }
  },
  "cells": [
    {
      "cell_type": "markdown",
      "metadata": {
        "id": "view-in-github",
        "colab_type": "text"
      },
      "source": [
        "<a href=\"https://colab.research.google.com/github/kym0323/National_Petition_analysis/blob/main/03_02_%EC%96%B8%EC%96%B4%EB%B6%84%EC%84%9D%EC%B2%AD%EC%9B%90%EA%B2%8C%EC%8B%9C_ipynb%EC%9D%98_%EC%82%AC%EB%B3%B8.ipynb\" target=\"_parent\"><img src=\"https://colab.research.google.com/assets/colab-badge.svg\" alt=\"Open In Colab\"/></a>"
      ]
    },
    {
      "cell_type": "markdown",
      "metadata": {
        "id": "f7Ep46Z1pMqY"
      },
      "source": [
        "# 환경 준비"
      ]
    },
    {
      "cell_type": "code",
      "metadata": {
        "colab": {
          "base_uri": "https://localhost:8080/"
        },
        "id": "KHuJ_eoto7QV",
        "outputId": "7feaaac1-f107-481e-bc88-e2559d2cf267"
      },
      "source": [
        "# konlpy 설치하기\n",
        "!pip install konlpy"
      ],
      "execution_count": null,
      "outputs": [
        {
          "output_type": "stream",
          "text": [
            "Collecting konlpy\n",
            "\u001b[?25l  Downloading https://files.pythonhosted.org/packages/85/0e/f385566fec837c0b83f216b2da65db9997b35dd675e107752005b7d392b1/konlpy-0.5.2-py2.py3-none-any.whl (19.4MB)\n",
            "\u001b[K     |████████████████████████████████| 19.4MB 1.3MB/s \n",
            "\u001b[?25hCollecting JPype1>=0.7.0\n",
            "\u001b[?25l  Downloading https://files.pythonhosted.org/packages/fd/96/1030895dea70855a2e1078e3fe0d6a63dcb7c212309e07dc9ee39d33af54/JPype1-1.1.2-cp36-cp36m-manylinux2010_x86_64.whl (450kB)\n",
            "\u001b[K     |████████████████████████████████| 460kB 48.6MB/s \n",
            "\u001b[?25hRequirement already satisfied: lxml>=4.1.0 in /usr/local/lib/python3.6/dist-packages (from konlpy) (4.2.6)\n",
            "Collecting colorama\n",
            "  Downloading https://files.pythonhosted.org/packages/44/98/5b86278fbbf250d239ae0ecb724f8572af1c91f4a11edf4d36a206189440/colorama-0.4.4-py2.py3-none-any.whl\n",
            "Collecting tweepy>=3.7.0\n",
            "  Downloading https://files.pythonhosted.org/packages/bb/7c/99d51f80f3b77b107ebae2634108717362c059a41384a1810d13e2429a81/tweepy-3.9.0-py2.py3-none-any.whl\n",
            "Requirement already satisfied: numpy>=1.6 in /usr/local/lib/python3.6/dist-packages (from konlpy) (1.18.5)\n",
            "Collecting beautifulsoup4==4.6.0\n",
            "\u001b[?25l  Downloading https://files.pythonhosted.org/packages/9e/d4/10f46e5cfac773e22707237bfcd51bbffeaf0a576b0a847ec7ab15bd7ace/beautifulsoup4-4.6.0-py3-none-any.whl (86kB)\n",
            "\u001b[K     |████████████████████████████████| 92kB 11.3MB/s \n",
            "\u001b[?25hRequirement already satisfied: typing-extensions; python_version < \"3.8\" in /usr/local/lib/python3.6/dist-packages (from JPype1>=0.7.0->konlpy) (3.7.4.3)\n",
            "Requirement already satisfied: requests[socks]>=2.11.1 in /usr/local/lib/python3.6/dist-packages (from tweepy>=3.7.0->konlpy) (2.23.0)\n",
            "Requirement already satisfied: six>=1.10.0 in /usr/local/lib/python3.6/dist-packages (from tweepy>=3.7.0->konlpy) (1.15.0)\n",
            "Requirement already satisfied: requests-oauthlib>=0.7.0 in /usr/local/lib/python3.6/dist-packages (from tweepy>=3.7.0->konlpy) (1.3.0)\n",
            "Requirement already satisfied: idna<3,>=2.5 in /usr/local/lib/python3.6/dist-packages (from requests[socks]>=2.11.1->tweepy>=3.7.0->konlpy) (2.10)\n",
            "Requirement already satisfied: certifi>=2017.4.17 in /usr/local/lib/python3.6/dist-packages (from requests[socks]>=2.11.1->tweepy>=3.7.0->konlpy) (2020.11.8)\n",
            "Requirement already satisfied: chardet<4,>=3.0.2 in /usr/local/lib/python3.6/dist-packages (from requests[socks]>=2.11.1->tweepy>=3.7.0->konlpy) (3.0.4)\n",
            "Requirement already satisfied: urllib3!=1.25.0,!=1.25.1,<1.26,>=1.21.1 in /usr/local/lib/python3.6/dist-packages (from requests[socks]>=2.11.1->tweepy>=3.7.0->konlpy) (1.24.3)\n",
            "Requirement already satisfied: PySocks!=1.5.7,>=1.5.6; extra == \"socks\" in /usr/local/lib/python3.6/dist-packages (from requests[socks]>=2.11.1->tweepy>=3.7.0->konlpy) (1.7.1)\n",
            "Requirement already satisfied: oauthlib>=3.0.0 in /usr/local/lib/python3.6/dist-packages (from requests-oauthlib>=0.7.0->tweepy>=3.7.0->konlpy) (3.1.0)\n",
            "Installing collected packages: JPype1, colorama, tweepy, beautifulsoup4, konlpy\n",
            "  Found existing installation: tweepy 3.6.0\n",
            "    Uninstalling tweepy-3.6.0:\n",
            "      Successfully uninstalled tweepy-3.6.0\n",
            "  Found existing installation: beautifulsoup4 4.6.3\n",
            "    Uninstalling beautifulsoup4-4.6.3:\n",
            "      Successfully uninstalled beautifulsoup4-4.6.3\n",
            "Successfully installed JPype1-1.1.2 beautifulsoup4-4.6.0 colorama-0.4.4 konlpy-0.5.2 tweepy-3.9.0\n"
          ],
          "name": "stdout"
        }
      ]
    },
    {
      "cell_type": "code",
      "metadata": {
        "id": "v8s7pm2Ko_tt"
      },
      "source": [
        "# konlpy를 실행하기\n",
        "import konlpy"
      ],
      "execution_count": null,
      "outputs": []
    },
    {
      "cell_type": "code",
      "metadata": {
        "cellView": "both",
        "id": "JkwDdwbgo-Mp"
      },
      "source": [
        "## pandas을 실행하기, 단 실행 별명을 pd로\n",
        "import pandas as pd"
      ],
      "execution_count": null,
      "outputs": []
    },
    {
      "cell_type": "markdown",
      "metadata": {
        "id": "wycgqiQspQEL"
      },
      "source": [
        "# 데이터 불러오기"
      ]
    },
    {
      "cell_type": "code",
      "metadata": {
        "id": "EXSbylvjpUXC"
      },
      "source": [
        "# 구글 드라이브 연결을 위한 기본 세팅 \n",
        "!pip install -U -q PyDrive\n",
        " \n",
        "from pydrive.auth import GoogleAuth\n",
        "from pydrive.drive import GoogleDrive\n",
        "from google.colab import auth\n",
        "from oauth2client.client import GoogleCredentials\n",
        "\n",
        "auth.authenticate_user()\n",
        "gauth = GoogleAuth()\n",
        "gauth.credentials = GoogleCredentials.get_application_default()\n",
        "drive = GoogleDrive(gauth)"
      ],
      "execution_count": null,
      "outputs": []
    },
    {
      "cell_type": "code",
      "metadata": {
        "id": "HbrxvTb0pkKR"
      },
      "source": [
        "## 문서 ID로 실제 파일 불러오기\n",
        "\n",
        "\n",
        "\n",
        "rawdata_downloaded = drive.CreateFile({'id': '1IQEc2ibk9fWat0uszpiEWuJlmlhY1Ydv'})\n",
        "rawdata_downloaded.GetContentFile('rawdata.xlsx')"
      ],
      "execution_count": null,
      "outputs": []
    },
    {
      "cell_type": "code",
      "metadata": {
        "id": "Pk186oQ5pwM4"
      },
      "source": [
        "# \"rawdata.txt\" 파일의 내용을 \"원본데이터\" 변수로 불러오기\n",
        "원본데이터 = pd.read_excel('rawdata.xlsx')"
      ],
      "execution_count": null,
      "outputs": []
    },
    {
      "cell_type": "code",
      "metadata": {
        "colab": {
          "base_uri": "https://localhost:8080/",
          "height": 759
        },
        "id": "HC4ZKjPapy8w",
        "outputId": "ff22d530-941a-476d-d20e-83b71cd473a6"
      },
      "source": [
        "# \"원본데이터\" 변수 내용 확인하기\n",
        "원본데이터"
      ],
      "execution_count": null,
      "outputs": [
        {
          "output_type": "execute_result",
          "data": {
            "text/html": [
              "<div>\n",
              "<style scoped>\n",
              "    .dataframe tbody tr th:only-of-type {\n",
              "        vertical-align: middle;\n",
              "    }\n",
              "\n",
              "    .dataframe tbody tr th {\n",
              "        vertical-align: top;\n",
              "    }\n",
              "\n",
              "    .dataframe thead th {\n",
              "        text-align: right;\n",
              "    }\n",
              "</style>\n",
              "<table border=\"1\" class=\"dataframe\">\n",
              "  <thead>\n",
              "    <tr style=\"text-align: right;\">\n",
              "      <th></th>\n",
              "      <th>number</th>\n",
              "      <th>progress</th>\n",
              "      <th>title</th>\n",
              "      <th>like</th>\n",
              "      <th>contents</th>\n",
              "      <th>category</th>\n",
              "      <th>sday</th>\n",
              "      <th>eday</th>\n",
              "      <th>proponent</th>\n",
              "    </tr>\n",
              "  </thead>\n",
              "  <tbody>\n",
              "    <tr>\n",
              "      <th>0</th>\n",
              "      <td>28</td>\n",
              "      <td>청원종료</td>\n",
              "      <td>소액주주를 보호해주십시오</td>\n",
              "      <td>2137</td>\n",
              "      <td>**  존경하옵는 문재인대통령님께 \\n\\n\\n저는 중국원양자원이라는 KOSPI상장사...</td>\n",
              "      <td>경제민주화</td>\n",
              "      <td>2017-08-19</td>\n",
              "      <td>2017-08-26</td>\n",
              "      <td>naver</td>\n",
              "    </tr>\n",
              "    <tr>\n",
              "      <th>1</th>\n",
              "      <td>34</td>\n",
              "      <td>청원종료</td>\n",
              "      <td>『국가유공자 등 예우 및 지원에 관한법률』상「6.25전몰군경 자녀수당」의 불합리한 ...</td>\n",
              "      <td>679</td>\n",
              "      <td>(현황)\\n우리들 아버지께서는 67여년전 북의 남침으로 조국이 위기에 처했을 때 젊...</td>\n",
              "      <td>기타</td>\n",
              "      <td>2017-08-19</td>\n",
              "      <td>2017-09-18</td>\n",
              "      <td>naver</td>\n",
              "    </tr>\n",
              "    <tr>\n",
              "      <th>2</th>\n",
              "      <td>43</td>\n",
              "      <td>청원종료</td>\n",
              "      <td>기간제 교사의 정규직화를 반대합니다.</td>\n",
              "      <td>11293</td>\n",
              "      <td>대통령님, 안녕하세요. 저는 임용을 준비하고 수험생입니다. 처음 기간제 정규직화 된...</td>\n",
              "      <td>육아/교육</td>\n",
              "      <td>2017-08-19</td>\n",
              "      <td>2017-09-18</td>\n",
              "      <td>naver</td>\n",
              "    </tr>\n",
              "    <tr>\n",
              "      <th>3</th>\n",
              "      <td>46</td>\n",
              "      <td>청원종료</td>\n",
              "      <td>기간제교사의 정규직화를 반대합니다.</td>\n",
              "      <td>1933</td>\n",
              "      <td>대통령님, 안녕하세요. 저는 임용을 준비하고 수험생입니다. 처음 기간제 정규직화 된...</td>\n",
              "      <td>육아/교육</td>\n",
              "      <td>2017-08-19</td>\n",
              "      <td>2017-09-18</td>\n",
              "      <td>naver</td>\n",
              "    </tr>\n",
              "    <tr>\n",
              "      <th>4</th>\n",
              "      <td>50</td>\n",
              "      <td>청원종료</td>\n",
              "      <td>치과위생사 국가고시 날짜 변경 억울합니다</td>\n",
              "      <td>1251</td>\n",
              "      <td>안녕하십니까? 대통령님 간단하게 제소개 부터 하겠습니다. 저는 치위생과 3학년 학생...</td>\n",
              "      <td>일자리</td>\n",
              "      <td>2017-08-19</td>\n",
              "      <td>2017-10-18</td>\n",
              "      <td>naver</td>\n",
              "    </tr>\n",
              "    <tr>\n",
              "      <th>...</th>\n",
              "      <td>...</td>\n",
              "      <td>...</td>\n",
              "      <td>...</td>\n",
              "      <td>...</td>\n",
              "      <td>...</td>\n",
              "      <td>...</td>\n",
              "      <td>...</td>\n",
              "      <td>...</td>\n",
              "      <td>...</td>\n",
              "    </tr>\n",
              "    <tr>\n",
              "      <th>11892</th>\n",
              "      <td>589992</td>\n",
              "      <td>청원종료</td>\n",
              "      <td>주식 양도세 확대는 부당합니다.</td>\n",
              "      <td>87324</td>\n",
              "      <td>안녕하세요. 주식을 재테크 수단으로 하고 있는 대한민국 국민입니다. 대통령님 최근 ...</td>\n",
              "      <td>행정</td>\n",
              "      <td>2020-06-23</td>\n",
              "      <td>2020-07-23</td>\n",
              "      <td>kakao</td>\n",
              "    </tr>\n",
              "    <tr>\n",
              "      <th>11893</th>\n",
              "      <td>589995</td>\n",
              "      <td>청원종료</td>\n",
              "      <td>서민을 망하게하는 617부동산대책</td>\n",
              "      <td>2751</td>\n",
              "      <td>안녕하세요. 저는 인천 부평에 살고있는 40대 주부입니다.\\n저희는 얼마전 부평**...</td>\n",
              "      <td>교통/건축/국토</td>\n",
              "      <td>2020-06-23</td>\n",
              "      <td>2020-07-23</td>\n",
              "      <td>naver</td>\n",
              "    </tr>\n",
              "    <tr>\n",
              "      <th>11894</th>\n",
              "      <td>589997</td>\n",
              "      <td>청원종료</td>\n",
              "      <td>617 부동산 대책으로 대출규제를 소급적용하는게 과연 상식에 맞다고 생각하십니까?</td>\n",
              "      <td>3701</td>\n",
              "      <td>저는 얼마전까지 비규제지역이었던 인천에 분양권을 2개 소유한 사람입니다. \\n현 정...</td>\n",
              "      <td>교통/건축/국토</td>\n",
              "      <td>2020-06-23</td>\n",
              "      <td>2020-07-23</td>\n",
              "      <td>naver</td>\n",
              "    </tr>\n",
              "    <tr>\n",
              "      <th>11895</th>\n",
              "      <td>589999</td>\n",
              "      <td>청원종료</td>\n",
              "      <td>2주택자 중도금대출불가  소급적용은 위헌적 행정조치입니다</td>\n",
              "      <td>5002</td>\n",
              "      <td>저는 2주택자입니다. \\n20.5월경 인천 중구 영종도는 비규제지역이라 아파트 분양...</td>\n",
              "      <td>행정</td>\n",
              "      <td>2020-06-23</td>\n",
              "      <td>2020-07-23</td>\n",
              "      <td>naver</td>\n",
              "    </tr>\n",
              "    <tr>\n",
              "      <th>11896</th>\n",
              "      <td>590000</td>\n",
              "      <td>청원종료</td>\n",
              "      <td>인천공항 보안검색 청원경찰 잘못된 기사화 그리고 오해를 풀어주세요.</td>\n",
              "      <td>8259</td>\n",
              "      <td>안녕하십니까 \\n\\n저는 현재 인천국제공항 보안검색에 재직중인 보안검색요원 입니다....</td>\n",
              "      <td>일자리</td>\n",
              "      <td>2020-06-23</td>\n",
              "      <td>2020-07-23</td>\n",
              "      <td>naver</td>\n",
              "    </tr>\n",
              "  </tbody>\n",
              "</table>\n",
              "<p>11897 rows × 9 columns</p>\n",
              "</div>"
            ],
            "text/plain": [
              "       number progress  ...       eday  proponent\n",
              "0          28     청원종료  ... 2017-08-26      naver\n",
              "1          34     청원종료  ... 2017-09-18      naver\n",
              "2          43     청원종료  ... 2017-09-18      naver\n",
              "3          46     청원종료  ... 2017-09-18      naver\n",
              "4          50     청원종료  ... 2017-10-18      naver\n",
              "...       ...      ...  ...        ...        ...\n",
              "11892  589992     청원종료  ... 2020-07-23      kakao\n",
              "11893  589995     청원종료  ... 2020-07-23      naver\n",
              "11894  589997     청원종료  ... 2020-07-23      naver\n",
              "11895  589999     청원종료  ... 2020-07-23      naver\n",
              "11896  590000     청원종료  ... 2020-07-23      naver\n",
              "\n",
              "[11897 rows x 9 columns]"
            ]
          },
          "metadata": {
            "tags": []
          },
          "execution_count": 7
        }
      ]
    },
    {
      "cell_type": "code",
      "metadata": {
        "id": "Rnp3KtCLff_V"
      },
      "source": [
        "원본데이터 = 원본데이터.dropna(axis=0)"
      ],
      "execution_count": null,
      "outputs": []
    },
    {
      "cell_type": "code",
      "metadata": {
        "colab": {
          "base_uri": "https://localhost:8080/",
          "height": 759
        },
        "id": "xjWkifd8fldL",
        "outputId": "b3a1161f-7912-46c7-8258-0148788196f9"
      },
      "source": [
        "원본데이터"
      ],
      "execution_count": null,
      "outputs": [
        {
          "output_type": "execute_result",
          "data": {
            "text/html": [
              "<div>\n",
              "<style scoped>\n",
              "    .dataframe tbody tr th:only-of-type {\n",
              "        vertical-align: middle;\n",
              "    }\n",
              "\n",
              "    .dataframe tbody tr th {\n",
              "        vertical-align: top;\n",
              "    }\n",
              "\n",
              "    .dataframe thead th {\n",
              "        text-align: right;\n",
              "    }\n",
              "</style>\n",
              "<table border=\"1\" class=\"dataframe\">\n",
              "  <thead>\n",
              "    <tr style=\"text-align: right;\">\n",
              "      <th></th>\n",
              "      <th>number</th>\n",
              "      <th>progress</th>\n",
              "      <th>title</th>\n",
              "      <th>like</th>\n",
              "      <th>contents</th>\n",
              "      <th>category</th>\n",
              "      <th>sday</th>\n",
              "      <th>eday</th>\n",
              "      <th>proponent</th>\n",
              "    </tr>\n",
              "  </thead>\n",
              "  <tbody>\n",
              "    <tr>\n",
              "      <th>0</th>\n",
              "      <td>28</td>\n",
              "      <td>청원종료</td>\n",
              "      <td>소액주주를 보호해주십시오</td>\n",
              "      <td>2137</td>\n",
              "      <td>**  존경하옵는 문재인대통령님께 \\n\\n\\n저는 중국원양자원이라는 KOSPI상장사...</td>\n",
              "      <td>경제민주화</td>\n",
              "      <td>2017-08-19</td>\n",
              "      <td>2017-08-26</td>\n",
              "      <td>naver</td>\n",
              "    </tr>\n",
              "    <tr>\n",
              "      <th>1</th>\n",
              "      <td>34</td>\n",
              "      <td>청원종료</td>\n",
              "      <td>『국가유공자 등 예우 및 지원에 관한법률』상「6.25전몰군경 자녀수당」의 불합리한 ...</td>\n",
              "      <td>679</td>\n",
              "      <td>(현황)\\n우리들 아버지께서는 67여년전 북의 남침으로 조국이 위기에 처했을 때 젊...</td>\n",
              "      <td>기타</td>\n",
              "      <td>2017-08-19</td>\n",
              "      <td>2017-09-18</td>\n",
              "      <td>naver</td>\n",
              "    </tr>\n",
              "    <tr>\n",
              "      <th>2</th>\n",
              "      <td>43</td>\n",
              "      <td>청원종료</td>\n",
              "      <td>기간제 교사의 정규직화를 반대합니다.</td>\n",
              "      <td>11293</td>\n",
              "      <td>대통령님, 안녕하세요. 저는 임용을 준비하고 수험생입니다. 처음 기간제 정규직화 된...</td>\n",
              "      <td>육아/교육</td>\n",
              "      <td>2017-08-19</td>\n",
              "      <td>2017-09-18</td>\n",
              "      <td>naver</td>\n",
              "    </tr>\n",
              "    <tr>\n",
              "      <th>3</th>\n",
              "      <td>46</td>\n",
              "      <td>청원종료</td>\n",
              "      <td>기간제교사의 정규직화를 반대합니다.</td>\n",
              "      <td>1933</td>\n",
              "      <td>대통령님, 안녕하세요. 저는 임용을 준비하고 수험생입니다. 처음 기간제 정규직화 된...</td>\n",
              "      <td>육아/교육</td>\n",
              "      <td>2017-08-19</td>\n",
              "      <td>2017-09-18</td>\n",
              "      <td>naver</td>\n",
              "    </tr>\n",
              "    <tr>\n",
              "      <th>4</th>\n",
              "      <td>50</td>\n",
              "      <td>청원종료</td>\n",
              "      <td>치과위생사 국가고시 날짜 변경 억울합니다</td>\n",
              "      <td>1251</td>\n",
              "      <td>안녕하십니까? 대통령님 간단하게 제소개 부터 하겠습니다. 저는 치위생과 3학년 학생...</td>\n",
              "      <td>일자리</td>\n",
              "      <td>2017-08-19</td>\n",
              "      <td>2017-10-18</td>\n",
              "      <td>naver</td>\n",
              "    </tr>\n",
              "    <tr>\n",
              "      <th>...</th>\n",
              "      <td>...</td>\n",
              "      <td>...</td>\n",
              "      <td>...</td>\n",
              "      <td>...</td>\n",
              "      <td>...</td>\n",
              "      <td>...</td>\n",
              "      <td>...</td>\n",
              "      <td>...</td>\n",
              "      <td>...</td>\n",
              "    </tr>\n",
              "    <tr>\n",
              "      <th>11892</th>\n",
              "      <td>589992</td>\n",
              "      <td>청원종료</td>\n",
              "      <td>주식 양도세 확대는 부당합니다.</td>\n",
              "      <td>87324</td>\n",
              "      <td>안녕하세요. 주식을 재테크 수단으로 하고 있는 대한민국 국민입니다. 대통령님 최근 ...</td>\n",
              "      <td>행정</td>\n",
              "      <td>2020-06-23</td>\n",
              "      <td>2020-07-23</td>\n",
              "      <td>kakao</td>\n",
              "    </tr>\n",
              "    <tr>\n",
              "      <th>11893</th>\n",
              "      <td>589995</td>\n",
              "      <td>청원종료</td>\n",
              "      <td>서민을 망하게하는 617부동산대책</td>\n",
              "      <td>2751</td>\n",
              "      <td>안녕하세요. 저는 인천 부평에 살고있는 40대 주부입니다.\\n저희는 얼마전 부평**...</td>\n",
              "      <td>교통/건축/국토</td>\n",
              "      <td>2020-06-23</td>\n",
              "      <td>2020-07-23</td>\n",
              "      <td>naver</td>\n",
              "    </tr>\n",
              "    <tr>\n",
              "      <th>11894</th>\n",
              "      <td>589997</td>\n",
              "      <td>청원종료</td>\n",
              "      <td>617 부동산 대책으로 대출규제를 소급적용하는게 과연 상식에 맞다고 생각하십니까?</td>\n",
              "      <td>3701</td>\n",
              "      <td>저는 얼마전까지 비규제지역이었던 인천에 분양권을 2개 소유한 사람입니다. \\n현 정...</td>\n",
              "      <td>교통/건축/국토</td>\n",
              "      <td>2020-06-23</td>\n",
              "      <td>2020-07-23</td>\n",
              "      <td>naver</td>\n",
              "    </tr>\n",
              "    <tr>\n",
              "      <th>11895</th>\n",
              "      <td>589999</td>\n",
              "      <td>청원종료</td>\n",
              "      <td>2주택자 중도금대출불가  소급적용은 위헌적 행정조치입니다</td>\n",
              "      <td>5002</td>\n",
              "      <td>저는 2주택자입니다. \\n20.5월경 인천 중구 영종도는 비규제지역이라 아파트 분양...</td>\n",
              "      <td>행정</td>\n",
              "      <td>2020-06-23</td>\n",
              "      <td>2020-07-23</td>\n",
              "      <td>naver</td>\n",
              "    </tr>\n",
              "    <tr>\n",
              "      <th>11896</th>\n",
              "      <td>590000</td>\n",
              "      <td>청원종료</td>\n",
              "      <td>인천공항 보안검색 청원경찰 잘못된 기사화 그리고 오해를 풀어주세요.</td>\n",
              "      <td>8259</td>\n",
              "      <td>안녕하십니까 \\n\\n저는 현재 인천국제공항 보안검색에 재직중인 보안검색요원 입니다....</td>\n",
              "      <td>일자리</td>\n",
              "      <td>2020-06-23</td>\n",
              "      <td>2020-07-23</td>\n",
              "      <td>naver</td>\n",
              "    </tr>\n",
              "  </tbody>\n",
              "</table>\n",
              "<p>11880 rows × 9 columns</p>\n",
              "</div>"
            ],
            "text/plain": [
              "       number progress  ...       eday  proponent\n",
              "0          28     청원종료  ... 2017-08-26      naver\n",
              "1          34     청원종료  ... 2017-09-18      naver\n",
              "2          43     청원종료  ... 2017-09-18      naver\n",
              "3          46     청원종료  ... 2017-09-18      naver\n",
              "4          50     청원종료  ... 2017-10-18      naver\n",
              "...       ...      ...  ...        ...        ...\n",
              "11892  589992     청원종료  ... 2020-07-23      kakao\n",
              "11893  589995     청원종료  ... 2020-07-23      naver\n",
              "11894  589997     청원종료  ... 2020-07-23      naver\n",
              "11895  589999     청원종료  ... 2020-07-23      naver\n",
              "11896  590000     청원종료  ... 2020-07-23      naver\n",
              "\n",
              "[11880 rows x 9 columns]"
            ]
          },
          "metadata": {
            "tags": []
          },
          "execution_count": 9
        }
      ]
    },
    {
      "cell_type": "markdown",
      "metadata": {
        "id": "Wce9yoP4q1Oy"
      },
      "source": [
        "# 형태소 분석"
      ]
    },
    {
      "cell_type": "code",
      "metadata": {
        "id": "zxUfvTLTrD4U"
      },
      "source": [
        "# konlpy(한국어형태소분석기) 중에서 Okt 실행하기\n",
        "from konlpy.tag import Okt\n",
        "okt = Okt()"
      ],
      "execution_count": null,
      "outputs": []
    },
    {
      "cell_type": "code",
      "metadata": {
        "id": "2aGAOf86rFt4"
      },
      "source": [
        "# \"원본데이터\"를 대상으로 \"okt\"를 사용해서 형태소 분석하기\n",
        "저장공간  = []\n",
        "for index, row in 원본데이터.iterrows(): # 원본데이터의 컬럼(열)을 불러와서 반복할 준비!\n",
        "    대상텍스트 = row[4] # 분석에서 사용할 텍스트 정보가 있는 열을 지정해준다. 주의! python은 0부터 시작한다!\n",
        "    분류 = row[5] # 분석에서 사용할 분류 정보가 있는 열을 지정해준다. 주의! python은 0부터 시작한다!\n",
        "    형태소 = list(okt.pos(대상텍스트)) # okt의 pos 기능을 활용해서 대상 텍스트를 형태소 분리한다.\n",
        "    형태소종합 = pd.DataFrame.from_records(형태소) # 형태소에 저장된 내용을 데이터프레임 형태로 해서 형태소종합으로 저장한다.\n",
        "    형태소종합['type'] = 분류 # 형태소종합에 분류정보를 추가한다.\n",
        "    형태소종합['count'] = 1   # 형태소종합에 카운트정보를 추가한다.   \n",
        "    저장공간.append(형태소종합) # 형태소종합의 내용을 종합하여 저장한다."
      ],
      "execution_count": null,
      "outputs": []
    },
    {
      "cell_type": "code",
      "metadata": {
        "id": "jPg2tnvYrdYm"
      },
      "source": [
        "# \"저장공간\" 변수의 내용을 데이터프레임 형식으로 변환해서 \"분석통합\" 변수에 저장한다.\n",
        "분석통합 = pd.concat(저장공간)"
      ],
      "execution_count": null,
      "outputs": []
    },
    {
      "cell_type": "code",
      "metadata": {
        "colab": {
          "base_uri": "https://localhost:8080/",
          "height": 419
        },
        "id": "aW9KPz-GrfGO",
        "outputId": "31a03a07-b7ac-422d-a72d-c8ce27f9254b"
      },
      "source": [
        "# \"분석통합\" 변수의 저장 내용 확인\n",
        "분석통합"
      ],
      "execution_count": null,
      "outputs": [
        {
          "output_type": "execute_result",
          "data": {
            "text/html": [
              "<div>\n",
              "<style scoped>\n",
              "    .dataframe tbody tr th:only-of-type {\n",
              "        vertical-align: middle;\n",
              "    }\n",
              "\n",
              "    .dataframe tbody tr th {\n",
              "        vertical-align: top;\n",
              "    }\n",
              "\n",
              "    .dataframe thead th {\n",
              "        text-align: right;\n",
              "    }\n",
              "</style>\n",
              "<table border=\"1\" class=\"dataframe\">\n",
              "  <thead>\n",
              "    <tr style=\"text-align: right;\">\n",
              "      <th></th>\n",
              "      <th>0</th>\n",
              "      <th>1</th>\n",
              "      <th>type</th>\n",
              "      <th>count</th>\n",
              "    </tr>\n",
              "  </thead>\n",
              "  <tbody>\n",
              "    <tr>\n",
              "      <th>0</th>\n",
              "      <td>**</td>\n",
              "      <td>Punctuation</td>\n",
              "      <td>경제민주화</td>\n",
              "      <td>1</td>\n",
              "    </tr>\n",
              "    <tr>\n",
              "      <th>1</th>\n",
              "      <td>존경</td>\n",
              "      <td>Noun</td>\n",
              "      <td>경제민주화</td>\n",
              "      <td>1</td>\n",
              "    </tr>\n",
              "    <tr>\n",
              "      <th>2</th>\n",
              "      <td>하옵는</td>\n",
              "      <td>Verb</td>\n",
              "      <td>경제민주화</td>\n",
              "      <td>1</td>\n",
              "    </tr>\n",
              "    <tr>\n",
              "      <th>3</th>\n",
              "      <td>문재인</td>\n",
              "      <td>Noun</td>\n",
              "      <td>경제민주화</td>\n",
              "      <td>1</td>\n",
              "    </tr>\n",
              "    <tr>\n",
              "      <th>4</th>\n",
              "      <td>대통령</td>\n",
              "      <td>Noun</td>\n",
              "      <td>경제민주화</td>\n",
              "      <td>1</td>\n",
              "    </tr>\n",
              "    <tr>\n",
              "      <th>...</th>\n",
              "      <td>...</td>\n",
              "      <td>...</td>\n",
              "      <td>...</td>\n",
              "      <td>...</td>\n",
              "    </tr>\n",
              "    <tr>\n",
              "      <th>1145</th>\n",
              "      <td>\\n\\n</td>\n",
              "      <td>Foreign</td>\n",
              "      <td>일자리</td>\n",
              "      <td>1</td>\n",
              "    </tr>\n",
              "    <tr>\n",
              "      <th>1146</th>\n",
              "      <td>진심</td>\n",
              "      <td>Noun</td>\n",
              "      <td>일자리</td>\n",
              "      <td>1</td>\n",
              "    </tr>\n",
              "    <tr>\n",
              "      <th>1147</th>\n",
              "      <td>으로</td>\n",
              "      <td>Josa</td>\n",
              "      <td>일자리</td>\n",
              "      <td>1</td>\n",
              "    </tr>\n",
              "    <tr>\n",
              "      <th>1148</th>\n",
              "      <td>부탁드립니다</td>\n",
              "      <td>Adjective</td>\n",
              "      <td>일자리</td>\n",
              "      <td>1</td>\n",
              "    </tr>\n",
              "    <tr>\n",
              "      <th>1149</th>\n",
              "      <td>.</td>\n",
              "      <td>Punctuation</td>\n",
              "      <td>일자리</td>\n",
              "      <td>1</td>\n",
              "    </tr>\n",
              "  </tbody>\n",
              "</table>\n",
              "<p>6205067 rows × 4 columns</p>\n",
              "</div>"
            ],
            "text/plain": [
              "           0            1   type  count\n",
              "0         **  Punctuation  경제민주화      1\n",
              "1         존경         Noun  경제민주화      1\n",
              "2        하옵는         Verb  경제민주화      1\n",
              "3        문재인         Noun  경제민주화      1\n",
              "4        대통령         Noun  경제민주화      1\n",
              "...      ...          ...    ...    ...\n",
              "1145    \\n\\n      Foreign    일자리      1\n",
              "1146      진심         Noun    일자리      1\n",
              "1147      으로         Josa    일자리      1\n",
              "1148  부탁드립니다    Adjective    일자리      1\n",
              "1149       .  Punctuation    일자리      1\n",
              "\n",
              "[6205067 rows x 4 columns]"
            ]
          },
          "metadata": {
            "tags": []
          },
          "execution_count": 13
        }
      ]
    },
    {
      "cell_type": "code",
      "metadata": {
        "id": "mYBnRLrOremd"
      },
      "source": [
        "# \"분석통합\" 변수의 컬럼(열) 이름 변경\n",
        "분석통합.columns = [\"형태소\", \"품사\", \"분류\", \"카운트\"]"
      ],
      "execution_count": null,
      "outputs": []
    },
    {
      "cell_type": "code",
      "metadata": {
        "colab": {
          "base_uri": "https://localhost:8080/",
          "height": 419
        },
        "id": "KIEaYMwSriNW",
        "outputId": "7c7b38d9-50f8-4b7f-ddcb-e20d6ff5b726"
      },
      "source": [
        "# \"분석통합\" 변수의 저장 내용 확인\n",
        "분석통합"
      ],
      "execution_count": null,
      "outputs": [
        {
          "output_type": "execute_result",
          "data": {
            "text/html": [
              "<div>\n",
              "<style scoped>\n",
              "    .dataframe tbody tr th:only-of-type {\n",
              "        vertical-align: middle;\n",
              "    }\n",
              "\n",
              "    .dataframe tbody tr th {\n",
              "        vertical-align: top;\n",
              "    }\n",
              "\n",
              "    .dataframe thead th {\n",
              "        text-align: right;\n",
              "    }\n",
              "</style>\n",
              "<table border=\"1\" class=\"dataframe\">\n",
              "  <thead>\n",
              "    <tr style=\"text-align: right;\">\n",
              "      <th></th>\n",
              "      <th>형태소</th>\n",
              "      <th>품사</th>\n",
              "      <th>분류</th>\n",
              "      <th>카운트</th>\n",
              "    </tr>\n",
              "  </thead>\n",
              "  <tbody>\n",
              "    <tr>\n",
              "      <th>0</th>\n",
              "      <td>**</td>\n",
              "      <td>Punctuation</td>\n",
              "      <td>경제민주화</td>\n",
              "      <td>1</td>\n",
              "    </tr>\n",
              "    <tr>\n",
              "      <th>1</th>\n",
              "      <td>존경</td>\n",
              "      <td>Noun</td>\n",
              "      <td>경제민주화</td>\n",
              "      <td>1</td>\n",
              "    </tr>\n",
              "    <tr>\n",
              "      <th>2</th>\n",
              "      <td>하옵는</td>\n",
              "      <td>Verb</td>\n",
              "      <td>경제민주화</td>\n",
              "      <td>1</td>\n",
              "    </tr>\n",
              "    <tr>\n",
              "      <th>3</th>\n",
              "      <td>문재인</td>\n",
              "      <td>Noun</td>\n",
              "      <td>경제민주화</td>\n",
              "      <td>1</td>\n",
              "    </tr>\n",
              "    <tr>\n",
              "      <th>4</th>\n",
              "      <td>대통령</td>\n",
              "      <td>Noun</td>\n",
              "      <td>경제민주화</td>\n",
              "      <td>1</td>\n",
              "    </tr>\n",
              "    <tr>\n",
              "      <th>...</th>\n",
              "      <td>...</td>\n",
              "      <td>...</td>\n",
              "      <td>...</td>\n",
              "      <td>...</td>\n",
              "    </tr>\n",
              "    <tr>\n",
              "      <th>1145</th>\n",
              "      <td>\\n\\n</td>\n",
              "      <td>Foreign</td>\n",
              "      <td>일자리</td>\n",
              "      <td>1</td>\n",
              "    </tr>\n",
              "    <tr>\n",
              "      <th>1146</th>\n",
              "      <td>진심</td>\n",
              "      <td>Noun</td>\n",
              "      <td>일자리</td>\n",
              "      <td>1</td>\n",
              "    </tr>\n",
              "    <tr>\n",
              "      <th>1147</th>\n",
              "      <td>으로</td>\n",
              "      <td>Josa</td>\n",
              "      <td>일자리</td>\n",
              "      <td>1</td>\n",
              "    </tr>\n",
              "    <tr>\n",
              "      <th>1148</th>\n",
              "      <td>부탁드립니다</td>\n",
              "      <td>Adjective</td>\n",
              "      <td>일자리</td>\n",
              "      <td>1</td>\n",
              "    </tr>\n",
              "    <tr>\n",
              "      <th>1149</th>\n",
              "      <td>.</td>\n",
              "      <td>Punctuation</td>\n",
              "      <td>일자리</td>\n",
              "      <td>1</td>\n",
              "    </tr>\n",
              "  </tbody>\n",
              "</table>\n",
              "<p>6205067 rows × 4 columns</p>\n",
              "</div>"
            ],
            "text/plain": [
              "         형태소           품사     분류  카운트\n",
              "0         **  Punctuation  경제민주화    1\n",
              "1         존경         Noun  경제민주화    1\n",
              "2        하옵는         Verb  경제민주화    1\n",
              "3        문재인         Noun  경제민주화    1\n",
              "4        대통령         Noun  경제민주화    1\n",
              "...      ...          ...    ...  ...\n",
              "1145    \\n\\n      Foreign    일자리    1\n",
              "1146      진심         Noun    일자리    1\n",
              "1147      으로         Josa    일자리    1\n",
              "1148  부탁드립니다    Adjective    일자리    1\n",
              "1149       .  Punctuation    일자리    1\n",
              "\n",
              "[6205067 rows x 4 columns]"
            ]
          },
          "metadata": {
            "tags": []
          },
          "execution_count": 15
        }
      ]
    },
    {
      "cell_type": "code",
      "metadata": {
        "id": "jQqgpDTBrjCd"
      },
      "source": [
        "# \"분석통합\" 변수의 내용을 형태소, 품사, 분류가 같은 것을 합치고, 카운트의 총합을 구해서 \"그룹통합\" 변수에 저장한다.\n",
        "그룹통합 = 분석통합.groupby(['형태소', '품사', \"분류\"])['카운트'].sum()"
      ],
      "execution_count": null,
      "outputs": []
    },
    {
      "cell_type": "code",
      "metadata": {
        "colab": {
          "base_uri": "https://localhost:8080/"
        },
        "id": "kbEoacSbrnC1",
        "outputId": "7479b1fa-16fb-42b4-b599-1310ebf4b5a3"
      },
      "source": [
        "# \"그룹통합\" 변수의 저장 내용 확인\n",
        "그룹통합"
      ],
      "execution_count": null,
      "outputs": [
        {
          "output_type": "execute_result",
          "data": {
            "text/plain": [
              "형태소   품사       분류         \n",
              "\\t    Foreign  경제민주화          61\n",
              "               교통/건축/국토       33\n",
              "               기타              4\n",
              "               문화/예술/체육/언론     4\n",
              "               미래              8\n",
              "                              ..\n",
              "🤬😡    Foreign  정치개혁            1\n",
              "🤬😡👿😠  Foreign  정치개혁            1\n",
              "🤬🤬🤬   Foreign  외교/통일/국방        1\n",
              "󰋎     Foreign  교통/건축/국토        1\n",
              "󰋏     Foreign  교통/건축/국토        1\n",
              "Name: 카운트, Length: 420877, dtype: int64"
            ]
          },
          "metadata": {
            "tags": []
          },
          "execution_count": 17
        }
      ]
    },
    {
      "cell_type": "code",
      "metadata": {
        "id": "lrMR5a-rroxU"
      },
      "source": [
        "# \"그룹통합\" 변수의 내용을 데이터프레임 형식으로 변환해서 \"그룹통합\" 변수에 저장한다.\n",
        "그룹통합 = pd.DataFrame(그룹통합)"
      ],
      "execution_count": null,
      "outputs": []
    },
    {
      "cell_type": "code",
      "metadata": {
        "colab": {
          "base_uri": "https://localhost:8080/",
          "height": 450
        },
        "id": "sSjWDwgjsDCk",
        "outputId": "dc7a1077-8e31-4dcc-be49-032d49dc8c02"
      },
      "source": [
        "# \"그룹통합\" 변수의 저장 내용 확인\n",
        "그룹통합"
      ],
      "execution_count": null,
      "outputs": [
        {
          "output_type": "execute_result",
          "data": {
            "text/html": [
              "<div>\n",
              "<style scoped>\n",
              "    .dataframe tbody tr th:only-of-type {\n",
              "        vertical-align: middle;\n",
              "    }\n",
              "\n",
              "    .dataframe tbody tr th {\n",
              "        vertical-align: top;\n",
              "    }\n",
              "\n",
              "    .dataframe thead th {\n",
              "        text-align: right;\n",
              "    }\n",
              "</style>\n",
              "<table border=\"1\" class=\"dataframe\">\n",
              "  <thead>\n",
              "    <tr style=\"text-align: right;\">\n",
              "      <th></th>\n",
              "      <th></th>\n",
              "      <th></th>\n",
              "      <th>카운트</th>\n",
              "    </tr>\n",
              "    <tr>\n",
              "      <th>형태소</th>\n",
              "      <th>품사</th>\n",
              "      <th>분류</th>\n",
              "      <th></th>\n",
              "    </tr>\n",
              "  </thead>\n",
              "  <tbody>\n",
              "    <tr>\n",
              "      <th rowspan=\"5\" valign=\"top\">\\t</th>\n",
              "      <th rowspan=\"5\" valign=\"top\">Foreign</th>\n",
              "      <th>경제민주화</th>\n",
              "      <td>61</td>\n",
              "    </tr>\n",
              "    <tr>\n",
              "      <th>교통/건축/국토</th>\n",
              "      <td>33</td>\n",
              "    </tr>\n",
              "    <tr>\n",
              "      <th>기타</th>\n",
              "      <td>4</td>\n",
              "    </tr>\n",
              "    <tr>\n",
              "      <th>문화/예술/체육/언론</th>\n",
              "      <td>4</td>\n",
              "    </tr>\n",
              "    <tr>\n",
              "      <th>미래</th>\n",
              "      <td>8</td>\n",
              "    </tr>\n",
              "    <tr>\n",
              "      <th>...</th>\n",
              "      <th>...</th>\n",
              "      <th>...</th>\n",
              "      <td>...</td>\n",
              "    </tr>\n",
              "    <tr>\n",
              "      <th>🤬😡</th>\n",
              "      <th>Foreign</th>\n",
              "      <th>정치개혁</th>\n",
              "      <td>1</td>\n",
              "    </tr>\n",
              "    <tr>\n",
              "      <th>🤬😡👿😠</th>\n",
              "      <th>Foreign</th>\n",
              "      <th>정치개혁</th>\n",
              "      <td>1</td>\n",
              "    </tr>\n",
              "    <tr>\n",
              "      <th>🤬🤬🤬</th>\n",
              "      <th>Foreign</th>\n",
              "      <th>외교/통일/국방</th>\n",
              "      <td>1</td>\n",
              "    </tr>\n",
              "    <tr>\n",
              "      <th>󰋎</th>\n",
              "      <th>Foreign</th>\n",
              "      <th>교통/건축/국토</th>\n",
              "      <td>1</td>\n",
              "    </tr>\n",
              "    <tr>\n",
              "      <th>󰋏</th>\n",
              "      <th>Foreign</th>\n",
              "      <th>교통/건축/국토</th>\n",
              "      <td>1</td>\n",
              "    </tr>\n",
              "  </tbody>\n",
              "</table>\n",
              "<p>420877 rows × 1 columns</p>\n",
              "</div>"
            ],
            "text/plain": [
              "                          카운트\n",
              "형태소  품사      분류              \n",
              "\\t   Foreign 경제민주화         61\n",
              "             교통/건축/국토      33\n",
              "             기타             4\n",
              "             문화/예술/체육/언론    4\n",
              "             미래             8\n",
              "...                       ...\n",
              "🤬😡   Foreign 정치개혁           1\n",
              "🤬😡👿😠 Foreign 정치개혁           1\n",
              "🤬🤬🤬  Foreign 외교/통일/국방       1\n",
              "󰋎    Foreign 교통/건축/국토       1\n",
              "󰋏    Foreign 교통/건축/국토       1\n",
              "\n",
              "[420877 rows x 1 columns]"
            ]
          },
          "metadata": {
            "tags": []
          },
          "execution_count": 19
        }
      ]
    },
    {
      "cell_type": "code",
      "metadata": {
        "id": "F10LD-NtsjfX"
      },
      "source": [
        "# \"그룹통합\" 변수의 내용을 \"형태소분석결과.csv\" 파일로 저장한다.\n",
        "# header는 컬럼(열) 정보의 포함 여부이다.\n",
        "# encoding은 문자코드를 선택하는 것이다. python에서는 기본적으로 utf-8(유니코드)를 사용한다.\n",
        "\n",
        "그룹통합.to_csv('형태소분석결과_si.csv', header='true', encoding='utf-8-sig')"
      ],
      "execution_count": null,
      "outputs": []
    },
    {
      "cell_type": "code",
      "metadata": {
        "colab": {
          "background_save": true
        },
        "id": "mcaJQLDef6JA"
      },
      "source": [
        ""
      ],
      "execution_count": null,
      "outputs": []
    }
  ]
}